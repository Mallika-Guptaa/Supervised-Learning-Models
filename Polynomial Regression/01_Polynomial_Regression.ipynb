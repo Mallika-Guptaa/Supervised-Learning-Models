{
 "cells": [
  {
   "cell_type": "code",
   "execution_count": 59,
   "id": "a54e2e16-2027-48b2-8da9-089d648bd846",
   "metadata": {},
   "outputs": [],
   "source": [
    "import numpy as np\n",
    "import pandas as pd\n",
    "import matplotlib.pyplot as plt\n",
    "import seaborn as sns"
   ]
  },
  {
   "cell_type": "code",
   "execution_count": 60,
   "id": "47b99b80-2dea-4306-8dcd-5296336bf5d8",
   "metadata": {},
   "outputs": [
    {
     "data": {
      "text/html": [
       "<div>\n",
       "<style scoped>\n",
       "    .dataframe tbody tr th:only-of-type {\n",
       "        vertical-align: middle;\n",
       "    }\n",
       "\n",
       "    .dataframe tbody tr th {\n",
       "        vertical-align: top;\n",
       "    }\n",
       "\n",
       "    .dataframe thead th {\n",
       "        text-align: right;\n",
       "    }\n",
       "</style>\n",
       "<table border=\"1\" class=\"dataframe\">\n",
       "  <thead>\n",
       "    <tr style=\"text-align: right;\">\n",
       "      <th></th>\n",
       "      <th>TV</th>\n",
       "      <th>radio</th>\n",
       "      <th>newspaper</th>\n",
       "      <th>sales</th>\n",
       "    </tr>\n",
       "  </thead>\n",
       "  <tbody>\n",
       "    <tr>\n",
       "      <th>0</th>\n",
       "      <td>230.1</td>\n",
       "      <td>37.8</td>\n",
       "      <td>69.2</td>\n",
       "      <td>22.1</td>\n",
       "    </tr>\n",
       "    <tr>\n",
       "      <th>1</th>\n",
       "      <td>44.5</td>\n",
       "      <td>39.3</td>\n",
       "      <td>45.1</td>\n",
       "      <td>10.4</td>\n",
       "    </tr>\n",
       "    <tr>\n",
       "      <th>2</th>\n",
       "      <td>17.2</td>\n",
       "      <td>45.9</td>\n",
       "      <td>69.3</td>\n",
       "      <td>9.3</td>\n",
       "    </tr>\n",
       "    <tr>\n",
       "      <th>3</th>\n",
       "      <td>151.5</td>\n",
       "      <td>41.3</td>\n",
       "      <td>58.5</td>\n",
       "      <td>18.5</td>\n",
       "    </tr>\n",
       "    <tr>\n",
       "      <th>4</th>\n",
       "      <td>180.8</td>\n",
       "      <td>10.8</td>\n",
       "      <td>58.4</td>\n",
       "      <td>12.9</td>\n",
       "    </tr>\n",
       "  </tbody>\n",
       "</table>\n",
       "</div>"
      ],
      "text/plain": [
       "      TV  radio  newspaper  sales\n",
       "0  230.1   37.8       69.2   22.1\n",
       "1   44.5   39.3       45.1   10.4\n",
       "2   17.2   45.9       69.3    9.3\n",
       "3  151.5   41.3       58.5   18.5\n",
       "4  180.8   10.8       58.4   12.9"
      ]
     },
     "execution_count": 60,
     "metadata": {},
     "output_type": "execute_result"
    }
   ],
   "source": [
    "df = pd.read_csv('Advertising.csv')\n",
    "df.head()"
   ]
  },
  {
   "cell_type": "code",
   "execution_count": 61,
   "id": "aea67925-2031-410c-a794-d99cdd6462d1",
   "metadata": {},
   "outputs": [
    {
     "name": "stdout",
     "output_type": "stream",
     "text": [
      "<class 'pandas.core.frame.DataFrame'>\n",
      "RangeIndex: 200 entries, 0 to 199\n",
      "Data columns (total 4 columns):\n",
      " #   Column     Non-Null Count  Dtype  \n",
      "---  ------     --------------  -----  \n",
      " 0   TV         200 non-null    float64\n",
      " 1   radio      200 non-null    float64\n",
      " 2   newspaper  200 non-null    float64\n",
      " 3   sales      200 non-null    float64\n",
      "dtypes: float64(4)\n",
      "memory usage: 6.4 KB\n"
     ]
    }
   ],
   "source": [
    "df.info()"
   ]
  },
  {
   "cell_type": "code",
   "execution_count": 62,
   "id": "a14935af-12a2-403e-9917-be2ac7f85cfb",
   "metadata": {},
   "outputs": [],
   "source": [
    "X = df.drop('sales', axis = 1)\n",
    "y = df['sales']"
   ]
  },
  {
   "cell_type": "markdown",
   "id": "29400d98-94ef-4d2a-b5b4-fc7c36233a19",
   "metadata": {},
   "source": [
    "### Polynomial Regression"
   ]
  },
  {
   "cell_type": "code",
   "execution_count": 63,
   "id": "12efd1df-5d22-4e99-a624-636cf6c39de6",
   "metadata": {},
   "outputs": [],
   "source": [
    "from sklearn.preprocessing import PolynomialFeatures"
   ]
  },
  {
   "cell_type": "code",
   "execution_count": 64,
   "id": "292a3e6a-e3f2-4022-8584-15dcb46494a3",
   "metadata": {},
   "outputs": [],
   "source": [
    "poly_converter = PolynomialFeatures(degree = 2, include_bias= False)"
   ]
  },
  {
   "cell_type": "code",
   "execution_count": 65,
   "id": "270b2333-e6fd-4c14-b8e9-fa738f3e7eb2",
   "metadata": {},
   "outputs": [],
   "source": [
    "# poly_converter.fit(X)"
   ]
  },
  {
   "cell_type": "code",
   "execution_count": 66,
   "id": "99097447-7f53-45d1-9ddf-4c0ceabcdf5f",
   "metadata": {},
   "outputs": [],
   "source": [
    "# poly_converter.transform(X)"
   ]
  },
  {
   "cell_type": "code",
   "execution_count": 67,
   "id": "ef834884-b0e2-4f66-843c-7f16bc0c8a13",
   "metadata": {},
   "outputs": [],
   "source": [
    "poly_features = poly_converter.fit_transform(X)"
   ]
  },
  {
   "cell_type": "code",
   "execution_count": 68,
   "id": "3d669000-ec65-463c-b8f6-00fb46388e72",
   "metadata": {},
   "outputs": [
    {
     "data": {
      "text/plain": [
       "(200, 3)"
      ]
     },
     "execution_count": 68,
     "metadata": {},
     "output_type": "execute_result"
    }
   ],
   "source": [
    "X.shape"
   ]
  },
  {
   "cell_type": "code",
   "execution_count": 69,
   "id": "7cbcb0f8-4213-4a20-8bdf-28d2df882dbe",
   "metadata": {},
   "outputs": [
    {
     "data": {
      "text/plain": [
       "(200, 9)"
      ]
     },
     "execution_count": 69,
     "metadata": {},
     "output_type": "execute_result"
    }
   ],
   "source": [
    "poly_features.shape"
   ]
  },
  {
   "cell_type": "code",
   "execution_count": 70,
   "id": "c38d8286-89d7-479a-ac4a-027090e491c9",
   "metadata": {},
   "outputs": [
    {
     "data": {
      "text/plain": [
       "TV           230.1\n",
       "radio         37.8\n",
       "newspaper     69.2\n",
       "Name: 0, dtype: float64"
      ]
     },
     "execution_count": 70,
     "metadata": {},
     "output_type": "execute_result"
    }
   ],
   "source": [
    "X.iloc[0]"
   ]
  },
  {
   "cell_type": "code",
   "execution_count": 71,
   "id": "af8eadf8-9e18-44df-988f-b428ba3d6e4a",
   "metadata": {},
   "outputs": [
    {
     "data": {
      "text/plain": [
       "array([2.301000e+02, 3.780000e+01, 6.920000e+01, 5.294601e+04,\n",
       "       8.697780e+03, 1.592292e+04, 1.428840e+03, 2.615760e+03,\n",
       "       4.788640e+03])"
      ]
     },
     "execution_count": 71,
     "metadata": {},
     "output_type": "execute_result"
    }
   ],
   "source": [
    "poly_features[0]"
   ]
  },
  {
   "cell_type": "code",
   "execution_count": 72,
   "id": "ee19523c-49e5-46a4-8184-9d2f3a7b30b2",
   "metadata": {},
   "outputs": [
    {
     "data": {
      "text/plain": [
       "TV           52946.01\n",
       "radio         1428.84\n",
       "newspaper     4788.64\n",
       "Name: 0, dtype: float64"
      ]
     },
     "execution_count": 72,
     "metadata": {},
     "output_type": "execute_result"
    }
   ],
   "source": [
    "X.iloc[0]**2"
   ]
  },
  {
   "cell_type": "code",
   "execution_count": 73,
   "id": "789d6fee-8edc-4f5f-b3c5-027dacfba70f",
   "metadata": {},
   "outputs": [
    {
     "data": {
      "text/plain": [
       "8697.779999999999"
      ]
     },
     "execution_count": 73,
     "metadata": {},
     "output_type": "execute_result"
    }
   ],
   "source": [
    "230.1*37.8"
   ]
  },
  {
   "cell_type": "code",
   "execution_count": 74,
   "id": "a709aca5-5585-465b-b336-03ca8413aaa2",
   "metadata": {},
   "outputs": [
    {
     "data": {
      "text/plain": [
       "15922.92"
      ]
     },
     "execution_count": 74,
     "metadata": {},
     "output_type": "execute_result"
    }
   ],
   "source": [
    "230.1 * 69.2"
   ]
  },
  {
   "cell_type": "markdown",
   "id": "8cb4d202-2716-4638-94f0-78a2465954b6",
   "metadata": {},
   "source": [
    "### Train Test Split"
   ]
  },
  {
   "cell_type": "code",
   "execution_count": 75,
   "id": "cf3df6fa-32ad-493d-9106-a9b93f9412c3",
   "metadata": {},
   "outputs": [],
   "source": [
    "from sklearn.model_selection import train_test_split\n",
    "\n",
    "X_train, X_test, y_train, y_test = train_test_split(poly_features, y, test_size= 0.25, random_state= 50)"
   ]
  },
  {
   "cell_type": "markdown",
   "id": "9e3508f0-55e9-41c2-9be6-bb183c0d1293",
   "metadata": {},
   "source": [
    "### Model for fitting on Polynomial Data"
   ]
  },
  {
   "cell_type": "code",
   "execution_count": 76,
   "id": "11ef5a0a-008e-4d8a-b304-32c54f6cebff",
   "metadata": {},
   "outputs": [],
   "source": [
    "from sklearn.linear_model import LinearRegression"
   ]
  },
  {
   "cell_type": "code",
   "execution_count": 77,
   "id": "d907fb17-e6e4-4631-bf53-51ba1fa73368",
   "metadata": {},
   "outputs": [],
   "source": [
    "model = LinearRegression()"
   ]
  },
  {
   "cell_type": "code",
   "execution_count": 78,
   "id": "e0b07db5-68a8-4a27-8370-c8eea71329c9",
   "metadata": {},
   "outputs": [
    {
     "data": {
      "text/html": [
       "<style>#sk-container-id-4 {color: black;background-color: white;}#sk-container-id-4 pre{padding: 0;}#sk-container-id-4 div.sk-toggleable {background-color: white;}#sk-container-id-4 label.sk-toggleable__label {cursor: pointer;display: block;width: 100%;margin-bottom: 0;padding: 0.3em;box-sizing: border-box;text-align: center;}#sk-container-id-4 label.sk-toggleable__label-arrow:before {content: \"▸\";float: left;margin-right: 0.25em;color: #696969;}#sk-container-id-4 label.sk-toggleable__label-arrow:hover:before {color: black;}#sk-container-id-4 div.sk-estimator:hover label.sk-toggleable__label-arrow:before {color: black;}#sk-container-id-4 div.sk-toggleable__content {max-height: 0;max-width: 0;overflow: hidden;text-align: left;background-color: #f0f8ff;}#sk-container-id-4 div.sk-toggleable__content pre {margin: 0.2em;color: black;border-radius: 0.25em;background-color: #f0f8ff;}#sk-container-id-4 input.sk-toggleable__control:checked~div.sk-toggleable__content {max-height: 200px;max-width: 100%;overflow: auto;}#sk-container-id-4 input.sk-toggleable__control:checked~label.sk-toggleable__label-arrow:before {content: \"▾\";}#sk-container-id-4 div.sk-estimator input.sk-toggleable__control:checked~label.sk-toggleable__label {background-color: #d4ebff;}#sk-container-id-4 div.sk-label input.sk-toggleable__control:checked~label.sk-toggleable__label {background-color: #d4ebff;}#sk-container-id-4 input.sk-hidden--visually {border: 0;clip: rect(1px 1px 1px 1px);clip: rect(1px, 1px, 1px, 1px);height: 1px;margin: -1px;overflow: hidden;padding: 0;position: absolute;width: 1px;}#sk-container-id-4 div.sk-estimator {font-family: monospace;background-color: #f0f8ff;border: 1px dotted black;border-radius: 0.25em;box-sizing: border-box;margin-bottom: 0.5em;}#sk-container-id-4 div.sk-estimator:hover {background-color: #d4ebff;}#sk-container-id-4 div.sk-parallel-item::after {content: \"\";width: 100%;border-bottom: 1px solid gray;flex-grow: 1;}#sk-container-id-4 div.sk-label:hover label.sk-toggleable__label {background-color: #d4ebff;}#sk-container-id-4 div.sk-serial::before {content: \"\";position: absolute;border-left: 1px solid gray;box-sizing: border-box;top: 0;bottom: 0;left: 50%;z-index: 0;}#sk-container-id-4 div.sk-serial {display: flex;flex-direction: column;align-items: center;background-color: white;padding-right: 0.2em;padding-left: 0.2em;position: relative;}#sk-container-id-4 div.sk-item {position: relative;z-index: 1;}#sk-container-id-4 div.sk-parallel {display: flex;align-items: stretch;justify-content: center;background-color: white;position: relative;}#sk-container-id-4 div.sk-item::before, #sk-container-id-4 div.sk-parallel-item::before {content: \"\";position: absolute;border-left: 1px solid gray;box-sizing: border-box;top: 0;bottom: 0;left: 50%;z-index: -1;}#sk-container-id-4 div.sk-parallel-item {display: flex;flex-direction: column;z-index: 1;position: relative;background-color: white;}#sk-container-id-4 div.sk-parallel-item:first-child::after {align-self: flex-end;width: 50%;}#sk-container-id-4 div.sk-parallel-item:last-child::after {align-self: flex-start;width: 50%;}#sk-container-id-4 div.sk-parallel-item:only-child::after {width: 0;}#sk-container-id-4 div.sk-dashed-wrapped {border: 1px dashed gray;margin: 0 0.4em 0.5em 0.4em;box-sizing: border-box;padding-bottom: 0.4em;background-color: white;}#sk-container-id-4 div.sk-label label {font-family: monospace;font-weight: bold;display: inline-block;line-height: 1.2em;}#sk-container-id-4 div.sk-label-container {text-align: center;}#sk-container-id-4 div.sk-container {/* jupyter's `normalize.less` sets `[hidden] { display: none; }` but bootstrap.min.css set `[hidden] { display: none !important; }` so we also need the `!important` here to be able to override the default hidden behavior on the sphinx rendered scikit-learn.org. See: https://github.com/scikit-learn/scikit-learn/issues/21755 */display: inline-block !important;position: relative;}#sk-container-id-4 div.sk-text-repr-fallback {display: none;}</style><div id=\"sk-container-id-4\" class=\"sk-top-container\"><div class=\"sk-text-repr-fallback\"><pre>LinearRegression()</pre><b>In a Jupyter environment, please rerun this cell to show the HTML representation or trust the notebook. <br />On GitHub, the HTML representation is unable to render, please try loading this page with nbviewer.org.</b></div><div class=\"sk-container\" hidden><div class=\"sk-item\"><div class=\"sk-estimator sk-toggleable\"><input class=\"sk-toggleable__control sk-hidden--visually\" id=\"sk-estimator-id-4\" type=\"checkbox\" checked><label for=\"sk-estimator-id-4\" class=\"sk-toggleable__label sk-toggleable__label-arrow\">LinearRegression</label><div class=\"sk-toggleable__content\"><pre>LinearRegression()</pre></div></div></div></div></div>"
      ],
      "text/plain": [
       "LinearRegression()"
      ]
     },
     "execution_count": 78,
     "metadata": {},
     "output_type": "execute_result"
    }
   ],
   "source": [
    "model.fit(X_train, y_train)"
   ]
  },
  {
   "cell_type": "markdown",
   "id": "ee67bb28-5c4c-4fb9-8248-237fefc1aca3",
   "metadata": {},
   "source": [
    "### Evaluation on Test Set"
   ]
  },
  {
   "cell_type": "code",
   "execution_count": 79,
   "id": "31d7ea76-5da4-4384-a259-d1ef90b366ae",
   "metadata": {},
   "outputs": [],
   "source": [
    "test_prediction = model.predict(X_test)"
   ]
  },
  {
   "cell_type": "code",
   "execution_count": 80,
   "id": "2b28670b-eee5-425a-a07d-2b99ab19f047",
   "metadata": {},
   "outputs": [],
   "source": [
    "from sklearn.metrics import mean_absolute_error, mean_squared_error\n",
    "\n",
    "MAE = mean_absolute_error(y_test, test_prediction)\n",
    "MSE = mean_squared_error(y_test, test_prediction)\n",
    "RMSE = np.sqrt(MSE)"
   ]
  },
  {
   "cell_type": "code",
   "execution_count": 81,
   "id": "8f4e5b16-2b8d-4f81-8afa-75b61d2cb7ba",
   "metadata": {},
   "outputs": [
    {
     "data": {
      "text/plain": [
       "0.4198184562623396"
      ]
     },
     "execution_count": 81,
     "metadata": {},
     "output_type": "execute_result"
    }
   ],
   "source": [
    "MAE"
   ]
  },
  {
   "cell_type": "code",
   "execution_count": 82,
   "id": "35f28ac7-6906-40f7-8d55-d72711af7491",
   "metadata": {},
   "outputs": [
    {
     "data": {
      "text/plain": [
       "0.26164024745566844"
      ]
     },
     "execution_count": 82,
     "metadata": {},
     "output_type": "execute_result"
    }
   ],
   "source": [
    "MSE"
   ]
  },
  {
   "cell_type": "code",
   "execution_count": 83,
   "id": "1816e542-2d58-4ff4-9124-e9ddb053158b",
   "metadata": {},
   "outputs": [
    {
     "data": {
      "text/plain": [
       "0.5115078175899841"
      ]
     },
     "execution_count": 83,
     "metadata": {},
     "output_type": "execute_result"
    }
   ],
   "source": [
    "RMSE"
   ]
  },
  {
   "cell_type": "code",
   "execution_count": 84,
   "id": "a2c1b217-fa54-401c-bf13-a8bf86f058df",
   "metadata": {},
   "outputs": [
    {
     "data": {
      "text/plain": [
       "14.0225"
      ]
     },
     "execution_count": 84,
     "metadata": {},
     "output_type": "execute_result"
    }
   ],
   "source": [
    "df['sales'].mean()"
   ]
  },
  {
   "cell_type": "code",
   "execution_count": 85,
   "id": "010f90f1-383a-4711-aa93-634c711dea47",
   "metadata": {},
   "outputs": [
    {
     "data": {
      "text/plain": [
       "3.2142857142857144"
      ]
     },
     "execution_count": 85,
     "metadata": {},
     "output_type": "execute_result"
    }
   ],
   "source": [
    "45/14  #error of 3%"
   ]
  },
  {
   "cell_type": "markdown",
   "id": "d0ff6b08-4787-4d62-9713-b2205c188d02",
   "metadata": {},
   "source": [
    "### Choosing a Model\n",
    "\n",
    "#### Adjusting Parameters "
   ]
  },
  {
   "cell_type": "code",
   "execution_count": 87,
   "id": "eb5a9c76-67e0-498f-b769-ec2aa16b7751",
   "metadata": {},
   "outputs": [],
   "source": [
    "# training error per degree\n",
    "\n",
    "train_rmse_errors = []\n",
    "\n",
    "# test error per degree\n",
    "\n",
    "test_rmse_errors = []\n",
    "\n",
    "for d in range (1,30):\n",
    "\n",
    "    #create polyset for degree 'd'\n",
    "    polynomial_converter = PolynomialFeatures(degree =d, include_bias= False)\n",
    "    polynomial_features = polynomial_converter.fit_transform(X)\n",
    "\n",
    "    #split my new poly dataset\n",
    "\n",
    "    X_train, X_test, y_train, y_test = train_test_split(polynomial_features,y,test_size= 0.25, random_state=50)\n",
    "\n",
    "    #train on my new polyset \n",
    "    mod = LinearRegression()\n",
    "    mod.fit(X_train, y_train)\n",
    "\n",
    "    #predict on both train and test set\n",
    "    train_pred = mod.predict(X_train)\n",
    "    test_pred = mod.predict(X_test)\n",
    "\n",
    "    #Errors on train & test set\n",
    "    train_rmse = np.sqrt(mean_squared_error(y_train, train_pred))\n",
    "    test_rmse = np.sqrt(mean_squared_error(y_test, test_pred))\n",
    "\n",
    "    #append errors to list for plotting \n",
    "    train_rmse_errors.append(train_rmse)\n",
    "    test_rmse_errors.append(test_rmse)"
   ]
  },
  {
   "cell_type": "code",
   "execution_count": 88,
   "id": "37136b61-8c03-491d-a8a5-57a963397eb0",
   "metadata": {},
   "outputs": [
    {
     "data": {
      "text/plain": [
       "[1.7423907124229019,\n",
       " 0.6395144182615881,\n",
       " 0.4938020413274565,\n",
       " 0.3742055388169779,\n",
       " 0.26627451468285707,\n",
       " 0.2366580629110782,\n",
       " 8.315773389623512,\n",
       " 0.22736830983678366,\n",
       " 0.30787926683907824,\n",
       " 0.34058761843362306,\n",
       " 0.33220390093158586,\n",
       " 0.4608660219303582,\n",
       " 0.5912417365739776,\n",
       " 0.7921336696978647,\n",
       " 0.8339331548664873,\n",
       " 1.103108266059489,\n",
       " 1.2288908777312295,\n",
       " 1.4201555227332625,\n",
       " 12.740385059165916,\n",
       " 2.461341072636836,\n",
       " 3.488728306452919,\n",
       " 6.295682306856956,\n",
       " 3.0299801703481477,\n",
       " 2.0927311643410973,\n",
       " 2.404363934860939,\n",
       " 4.999694117778096,\n",
       " 4.649840714629103,\n",
       " 6.284649349639108,\n",
       " 5.955210045784107]"
      ]
     },
     "execution_count": 88,
     "metadata": {},
     "output_type": "execute_result"
    }
   ],
   "source": [
    "train_rmse_errors"
   ]
  },
  {
   "cell_type": "code",
   "execution_count": 89,
   "id": "f902e578-5e5b-4f03-9f46-68e872dfaa53",
   "metadata": {},
   "outputs": [
    {
     "data": {
      "text/plain": [
       "[1.4560791402121016,\n",
       " 0.5115078175899841,\n",
       " 0.37347079169546793,\n",
       " 0.5399751811968482,\n",
       " 2.1618154774869236,\n",
       " 14.83600105959763,\n",
       " 753.135552441381,\n",
       " 1169.009898836799,\n",
       " 30841.07361801692,\n",
       " 40854.85033454927,\n",
       " 192405.61221216148,\n",
       " 263189.92883084394,\n",
       " 993010.4263235074,\n",
       " 597458.7926929367,\n",
       " 379433.5513305163,\n",
       " 729322.8748991896,\n",
       " 165680.99757313065,\n",
       " 1616803.9558002925,\n",
       " 1218250.8004943116,\n",
       " 726817.145981991,\n",
       " 2174773.9759083996,\n",
       " 549441.8977776769,\n",
       " 1101329.944726079,\n",
       " 315518.3229779769,\n",
       " 784770.5126010705,\n",
       " 758320.018909749,\n",
       " 426909.31512765493,\n",
       " 553229.2894233346,\n",
       " 317505.7526236235]"
      ]
     },
     "execution_count": 89,
     "metadata": {},
     "output_type": "execute_result"
    }
   ],
   "source": [
    "test_rmse_errors"
   ]
  },
  {
   "cell_type": "code",
   "execution_count": 93,
   "id": "87b8b374-b7d4-4f6f-ae7a-162539038199",
   "metadata": {},
   "outputs": [
    {
     "data": {
      "text/plain": [
       "<matplotlib.legend.Legend at 0x118a59d02d0>"
      ]
     },
     "execution_count": 93,
     "metadata": {},
     "output_type": "execute_result"
    },
    {
     "data": {
      "image/png": "[encoded data removed]",
      "text/plain": [
       "<Figure size 640x480 with 1 Axes>"
      ]
     },
     "metadata": {},
     "output_type": "display_data"
    }
   ],
   "source": [
    "plt.plot(range(1,30), train_rmse_errors, label ='TRAIN')\n",
    "plt.plot(range(1,30), test_rmse_errors, label = 'TEST')\n",
    "plt.legend()\n",
    "\n",
    "#not getting a clear idea"
   ]
  },
  {
   "cell_type": "code",
   "execution_count": 96,
   "id": "644a5e75-d2ba-401e-88ac-a004828cc447",
   "metadata": {},
   "outputs": [
    {
     "data": {
      "text/plain": [
       "<matplotlib.legend.Legend at 0x118a5b58a90>"
      ]
     },
     "execution_count": 96,
     "metadata": {},
     "output_type": "execute_result"
    },
    {
     "data": {
      "image/png": "[encoded data removed]",
      "text/plain": [
       "<Figure size 640x480 with 1 Axes>"
      ]
     },
     "metadata": {},
     "output_type": "display_data"
    }
   ],
   "source": [
    "plt.plot(range(1,6), train_rmse_errors[:5], label ='TRAIN')\n",
    "plt.plot(range(1,6), test_rmse_errors[:5], label = 'TEST')\n",
    "plt.xlabel('Polynomial Complexity')\n",
    "plt.ylabel('RMSE')\n",
    "plt.legend()"
   ]
  },
  {
   "cell_type": "code",
   "execution_count": 97,
   "id": "d3455d5b-6420-4cbb-ad62-bbe5339ae62d",
   "metadata": {},
   "outputs": [],
   "source": [
    "# From looking at the plot the degree which can be selected can be - 3 or 4"
   ]
  },
  {
   "cell_type": "markdown",
   "id": "214997c6-3a8d-4bae-afc4-5a800ce138db",
   "metadata": {},
   "source": [
    "#### Finalizing Model Choice"
   ]
  },
  {
   "cell_type": "code",
   "execution_count": 98,
   "id": "f9c1c908-925e-4379-9908-6d2ac6858109",
   "metadata": {},
   "outputs": [],
   "source": [
    "final_poly_converter = PolynomialFeatures(degree =3, include_bias= False)"
   ]
  },
  {
   "cell_type": "code",
   "execution_count": 102,
   "id": "6118441e-0a00-48a8-85f1-91b86d00e560",
   "metadata": {},
   "outputs": [],
   "source": [
    "final_poly_features = final_poly_converter.fit_transform(X)"
   ]
  },
  {
   "cell_type": "code",
   "execution_count": 103,
   "id": "ff10edd2-f30a-43be-bfe6-241382e10b74",
   "metadata": {},
   "outputs": [
    {
     "data": {
      "text/plain": [
       "(19,)"
      ]
     },
     "execution_count": 103,
     "metadata": {},
     "output_type": "execute_result"
    }
   ],
   "source": [
    "final_poly_converter.fit_transform(X)[0].shape"
   ]
  },
  {
   "cell_type": "code",
   "execution_count": 104,
   "id": "8a7a5ff2-f6dd-471e-b065-f2c2f827cfdb",
   "metadata": {},
   "outputs": [],
   "source": [
    "final_model = LinearRegression()"
   ]
  },
  {
   "cell_type": "code",
   "execution_count": 105,
   "id": "bc4f0faf-d65d-4aef-a65e-45b1a3e72682",
   "metadata": {},
   "outputs": [
    {
     "data": {
      "text/html": [
       "<style>#sk-container-id-6 {color: black;background-color: white;}#sk-container-id-6 pre{padding: 0;}#sk-container-id-6 div.sk-toggleable {background-color: white;}#sk-container-id-6 label.sk-toggleable__label {cursor: pointer;display: block;width: 100%;margin-bottom: 0;padding: 0.3em;box-sizing: border-box;text-align: center;}#sk-container-id-6 label.sk-toggleable__label-arrow:before {content: \"▸\";float: left;margin-right: 0.25em;color: #696969;}#sk-container-id-6 label.sk-toggleable__label-arrow:hover:before {color: black;}#sk-container-id-6 div.sk-estimator:hover label.sk-toggleable__label-arrow:before {color: black;}#sk-container-id-6 div.sk-toggleable__content {max-height: 0;max-width: 0;overflow: hidden;text-align: left;background-color: #f0f8ff;}#sk-container-id-6 div.sk-toggleable__content pre {margin: 0.2em;color: black;border-radius: 0.25em;background-color: #f0f8ff;}#sk-container-id-6 input.sk-toggleable__control:checked~div.sk-toggleable__content {max-height: 200px;max-width: 100%;overflow: auto;}#sk-container-id-6 input.sk-toggleable__control:checked~label.sk-toggleable__label-arrow:before {content: \"▾\";}#sk-container-id-6 div.sk-estimator input.sk-toggleable__control:checked~label.sk-toggleable__label {background-color: #d4ebff;}#sk-container-id-6 div.sk-label input.sk-toggleable__control:checked~label.sk-toggleable__label {background-color: #d4ebff;}#sk-container-id-6 input.sk-hidden--visually {border: 0;clip: rect(1px 1px 1px 1px);clip: rect(1px, 1px, 1px, 1px);height: 1px;margin: -1px;overflow: hidden;padding: 0;position: absolute;width: 1px;}#sk-container-id-6 div.sk-estimator {font-family: monospace;background-color: #f0f8ff;border: 1px dotted black;border-radius: 0.25em;box-sizing: border-box;margin-bottom: 0.5em;}#sk-container-id-6 div.sk-estimator:hover {background-color: #d4ebff;}#sk-container-id-6 div.sk-parallel-item::after {content: \"\";width: 100%;border-bottom: 1px solid gray;flex-grow: 1;}#sk-container-id-6 div.sk-label:hover label.sk-toggleable__label {background-color: #d4ebff;}#sk-container-id-6 div.sk-serial::before {content: \"\";position: absolute;border-left: 1px solid gray;box-sizing: border-box;top: 0;bottom: 0;left: 50%;z-index: 0;}#sk-container-id-6 div.sk-serial {display: flex;flex-direction: column;align-items: center;background-color: white;padding-right: 0.2em;padding-left: 0.2em;position: relative;}#sk-container-id-6 div.sk-item {position: relative;z-index: 1;}#sk-container-id-6 div.sk-parallel {display: flex;align-items: stretch;justify-content: center;background-color: white;position: relative;}#sk-container-id-6 div.sk-item::before, #sk-container-id-6 div.sk-parallel-item::before {content: \"\";position: absolute;border-left: 1px solid gray;box-sizing: border-box;top: 0;bottom: 0;left: 50%;z-index: -1;}#sk-container-id-6 div.sk-parallel-item {display: flex;flex-direction: column;z-index: 1;position: relative;background-color: white;}#sk-container-id-6 div.sk-parallel-item:first-child::after {align-self: flex-end;width: 50%;}#sk-container-id-6 div.sk-parallel-item:last-child::after {align-self: flex-start;width: 50%;}#sk-container-id-6 div.sk-parallel-item:only-child::after {width: 0;}#sk-container-id-6 div.sk-dashed-wrapped {border: 1px dashed gray;margin: 0 0.4em 0.5em 0.4em;box-sizing: border-box;padding-bottom: 0.4em;background-color: white;}#sk-container-id-6 div.sk-label label {font-family: monospace;font-weight: bold;display: inline-block;line-height: 1.2em;}#sk-container-id-6 div.sk-label-container {text-align: center;}#sk-container-id-6 div.sk-container {/* jupyter's `normalize.less` sets `[hidden] { display: none; }` but bootstrap.min.css set `[hidden] { display: none !important; }` so we also need the `!important` here to be able to override the default hidden behavior on the sphinx rendered scikit-learn.org. See: https://github.com/scikit-learn/scikit-learn/issues/21755 */display: inline-block !important;position: relative;}#sk-container-id-6 div.sk-text-repr-fallback {display: none;}</style><div id=\"sk-container-id-6\" class=\"sk-top-container\"><div class=\"sk-text-repr-fallback\"><pre>LinearRegression()</pre><b>In a Jupyter environment, please rerun this cell to show the HTML representation or trust the notebook. <br />On GitHub, the HTML representation is unable to render, please try loading this page with nbviewer.org.</b></div><div class=\"sk-container\" hidden><div class=\"sk-item\"><div class=\"sk-estimator sk-toggleable\"><input class=\"sk-toggleable__control sk-hidden--visually\" id=\"sk-estimator-id-6\" type=\"checkbox\" checked><label for=\"sk-estimator-id-6\" class=\"sk-toggleable__label sk-toggleable__label-arrow\">LinearRegression</label><div class=\"sk-toggleable__content\"><pre>LinearRegression()</pre></div></div></div></div></div>"
      ],
      "text/plain": [
       "LinearRegression()"
      ]
     },
     "execution_count": 105,
     "metadata": {},
     "output_type": "execute_result"
    }
   ],
   "source": [
    "final_model.fit(final_poly_features, y)"
   ]
  },
  {
   "cell_type": "markdown",
   "id": "12db601f-e196-4a68-baa0-966c06c225aa",
   "metadata": {},
   "source": [
    "### Save Model and Converter "
   ]
  },
  {
   "cell_type": "code",
   "execution_count": 106,
   "id": "4c943a7f-70c4-47a6-b902-e69e09bb9ee5",
   "metadata": {},
   "outputs": [],
   "source": [
    "from joblib import dump, load"
   ]
  },
  {
   "cell_type": "code",
   "execution_count": 107,
   "id": "635b9399-9b26-4cc0-b195-111d3799e14d",
   "metadata": {},
   "outputs": [
    {
     "data": {
      "text/plain": [
       "['final_poly_model.joblib']"
      ]
     },
     "execution_count": 107,
     "metadata": {},
     "output_type": "execute_result"
    }
   ],
   "source": [
    "dump(final_model, 'final_poly_model.joblib')"
   ]
  },
  {
   "cell_type": "code",
   "execution_count": 108,
   "id": "c0ea39fd-babf-4407-996e-de77fd67ed3c",
   "metadata": {},
   "outputs": [
    {
     "data": {
      "text/plain": [
       "['poly_converter.joblib']"
      ]
     },
     "execution_count": 108,
     "metadata": {},
     "output_type": "execute_result"
    }
   ],
   "source": [
    "dump(final_poly_converter,'poly_converter.joblib')"
   ]
  },
  {
   "cell_type": "markdown",
   "id": "8a067abe-d5ef-4e84-9032-c0ba46c4bba2",
   "metadata": {},
   "source": [
    "### Deployment & Predictions"
   ]
  },
  {
   "cell_type": "code",
   "execution_count": 109,
   "id": "ec8cfbe3-7b73-4b8d-a71c-0b461287a94a",
   "metadata": {},
   "outputs": [],
   "source": [
    "loaded_poly = load ('poly_converter.joblib')\n",
    "loaded_model = load('final_poly_model.joblib')"
   ]
  },
  {
   "cell_type": "code",
   "execution_count": 111,
   "id": "c3fb50ff-13f1-4fda-ae52-44612457c4f3",
   "metadata": {},
   "outputs": [
    {
     "name": "stderr",
     "output_type": "stream",
     "text": [
      "C:\\Users\\heros\\anaconda3\\Lib\\site-packages\\sklearn\\base.py:439: UserWarning: X does not have valid feature names, but PolynomialFeatures was fitted with feature names\n",
      "  warnings.warn(\n"
     ]
    }
   ],
   "source": [
    "campaign = [[149,23,12],[149,23,12000]]\n",
    "campaign_poly = loaded_poly.transform(campaign)"
   ]
  },
  {
   "cell_type": "code",
   "execution_count": 112,
   "id": "4b78bf8b-2afc-4439-982c-752b3bd8c275",
   "metadata": {},
   "outputs": [
    {
     "data": {
      "text/plain": [
       "array([[1.490000e+02, 2.300000e+01, 1.200000e+01, 2.220100e+04,\n",
       "        3.427000e+03, 1.788000e+03, 5.290000e+02, 2.760000e+02,\n",
       "        1.440000e+02, 3.307949e+06, 5.106230e+05, 2.664120e+05,\n",
       "        7.882100e+04, 4.112400e+04, 2.145600e+04, 1.216700e+04,\n",
       "        6.348000e+03, 3.312000e+03, 1.728000e+03],\n",
       "       [1.490000e+02, 2.300000e+01, 1.200000e+04, 2.220100e+04,\n",
       "        3.427000e+03, 1.788000e+06, 5.290000e+02, 2.760000e+05,\n",
       "        1.440000e+08, 3.307949e+06, 5.106230e+05, 2.664120e+08,\n",
       "        7.882100e+04, 4.112400e+07, 2.145600e+10, 1.216700e+04,\n",
       "        6.348000e+06, 3.312000e+09, 1.728000e+12]])"
      ]
     },
     "execution_count": 112,
     "metadata": {},
     "output_type": "execute_result"
    }
   ],
   "source": [
    "campaign_poly"
   ]
  },
  {
   "cell_type": "code",
   "execution_count": 113,
   "id": "fe74d4f4-91e1-41e6-9839-2eb8efdb4811",
   "metadata": {},
   "outputs": [
    {
     "data": {
      "text/plain": [
       "array([ 1.48505033e+01, -3.94381405e+06])"
      ]
     },
     "execution_count": 113,
     "metadata": {},
     "output_type": "execute_result"
    }
   ],
   "source": [
    "loaded_model.predict(campaign_poly)"
   ]
  },
  {
   "cell_type": "code",
   "execution_count": null,
   "id": "34d25cd8-52f2-440b-a8d2-9b1a57af7911",
   "metadata": {},
   "outputs": [],
   "source": []
  }
 ],
 "metadata": {
  "kernelspec": {
   "display_name": "Python 3 (ipykernel)",
   "language": "python",
   "name": "python3"
  },
  "language_info": {
   "codemirror_mode": {
    "name": "ipython",
    "version": 3
   },
   "file_extension": ".py",
   "mimetype": "text/x-python",
   "name": "python",
   "nbconvert_exporter": "python",
   "pygments_lexer": "ipython3",
   "version": "3.11.7"
  }
 },
 "nbformat": 4,
 "nbformat_minor": 5
}
